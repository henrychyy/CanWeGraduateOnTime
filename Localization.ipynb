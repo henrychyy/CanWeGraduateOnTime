{
 "cells": [
  {
   "cell_type": "code",
   "execution_count": 2,
   "metadata": {},
   "outputs": [],
   "source": [
    "import numpy as np\n",
    "import cv2\n",
    "\n",
    "# total device number\n",
    "NUM = 4\n",
    "\n",
    "# device color bound\n",
    "RG_bound = [([17, 15, 100], [50, 56, 200]),\n",
    "            ([86, 31, 4], [220, 88, 50])]"
   ]
  },
  {
   "cell_type": "code",
   "execution_count": null,
   "metadata": {},
   "outputs": [],
   "source": [
    "def call_func(cmd, dev_num)\n",
    "    # cmd = 0: Initialization Call. every device to show same direction\n",
    "    # cmd = 1: First Level Call. call differences according to the largest bits\n",
    "    # cmd = ...    \n",
    "    # cmd = math.ceil(math.log2(dev_num)): Last Level Call.\n",
    "\n",
    "    # return true if a successful acknowledgements.\n",
    "    return True;"
   ]
  },
  {
   "cell_type": "code",
   "execution_count": null,
   "metadata": {},
   "outputs": [],
   "source": [
    "def dev_detection(img):\n",
    "\n",
    "    params = cv2.SimpleBlobDetector_Params()\n",
    " \n",
    "    # Change thresholds\n",
    "    params.minThreshold = 1;\n",
    "    params.maxThreshold = 255;\n",
    "    \n",
    "    # Filter by Area.\n",
    "    params.filterByArea = True\n",
    "    params.minArea = 300\n",
    " \n",
    "    # Filter by Circularity\n",
    "    params.filterByCircularity = True\n",
    "    params.minCircularity = 0.1\n",
    " \n",
    "    # Filter by Convexity\n",
    "    params.filterByConvexity = True\n",
    "    params.minConvexity = 0.87\n",
    " \n",
    "    # Filter by Inertia\n",
    "    params.filterByInertia = True\n",
    "    params.minInertiaRatio = 0.01\n",
    " \n",
    "    # Create a detector with the parameters\n",
    "    ver = (cv2.__version__).split('.')\n",
    "    if int(ver[0]) < 3 :\n",
    "        detector = cv2.SimpleBlobDetector(params)\n",
    "    else : \n",
    "        detector = cv2.SimpleBlobDetector_create(params)\n",
    "    \n",
    "    # gives a set of coordinates of device centers\n",
    "    key_points = detector.detect(img)\n",
    "    \n",
    "    return key_points"
   ]
  },
  {
   "cell_type": "code",
   "execution_count": null,
   "metadata": {},
   "outputs": [],
   "source": [
    "# function takes no input\n",
    "# function outputs the width and length of the grid\n",
    "#     & a width by length matrix with the individual device's orientation in the grid\n",
    "\n",
    "def init_grid():\n",
    "\n",
    "    # function takes a picture, crops the grid.\n",
    "    cap = cv2.VideoCapture(0) # video capture source camera (Here webcam of laptop) \n",
    "    ret,frame = cap.read() # return a single frame in variable `frame`\n",
    "\n",
    "    # function crops img into NUM        \n",
    "    [R_low, R_up, G_low, G_up] = [np.array(RG_bound[0][0], dtype=\"uint8\"), \n",
    "                                  np.array(RG_bound[0][1], dtype=\"uint8\"),\n",
    "                                  np.array(RG_bound[1][0], dtype=\"uint8\"),\n",
    "                                  np.array(RG_bound[1][1], dtype=\"uint8\")]\n",
    "\n",
    "    # find the colors within the specified boundaries and apply the mask\n",
    "    R_mask = cv2.inRange(frame, R_low, R_up)\n",
    "    G_mask = cv2.inRange(frame, G_low, G_up)\n",
    "    mask = R_mask + G_mask\n",
    "    output = cv2.bitwise_and(frame, frame, mask = mask)\n",
    "\n",
    "    key_dev = dev_detection(output)\n",
    "    \n",
    "    # check function convex hull: need idea.\n",
    "    hull = cv2.convexHull(key_dev)\n",
    "    \n",
    "    # possible solution 1. use hull check if rect\n",
    "    # possible solution 2. maximum key_dev coordinates on a line.\n",
    "    \n",
    "    return grid_w, grid_l, grid_dir"
   ]
  },
  {
   "cell_type": "code",
   "execution_count": null,
   "metadata": {},
   "outputs": [],
   "source": [
    "def ori_func(grid_dir)\n",
    "    # take a picture and implement the function.\n",
    "    \n",
    "    # returns 1 for ori same with directed. 0 for ori opposite\n",
    "    return grid_ori"
   ]
  },
  {
   "cell_type": "code",
   "execution_count": 1,
   "metadata": {
    "scrolled": true
   },
   "outputs": [
    {
     "ename": "SyntaxError",
     "evalue": "invalid syntax (<ipython-input-1-3c66f052b3a7>, line 1)",
     "output_type": "error",
     "traceback": [
      "\u001b[0;36m  File \u001b[0;32m\"<ipython-input-1-3c66f052b3a7>\"\u001b[0;36m, line \u001b[0;32m1\u001b[0m\n\u001b[0;31m    def dev_localization(dev_num)\u001b[0m\n\u001b[0m                                 ^\u001b[0m\n\u001b[0;31mSyntaxError\u001b[0m\u001b[0;31m:\u001b[0m invalid syntax\n"
     ]
    }
   ],
   "source": [
    "import time\n",
    "def dev_localization(dev_num):\n",
    "\n",
    "    # function calls all devices with orientation\n",
    "    call_func()\n",
    "    \n",
    "    time.sleep(0.05)\n",
    "    \n",
    "    # function crops grid, identifies the orientation & grid length, width.\n",
    "    # in future needs to consider individual orientations.\n",
    "    [grid_w, grid_l] = init_grid()\n",
    "    \n",
    "    active_dev = grid_w * grid_l\n",
    "    \n",
    "    \n",
    "    grid_ide = np.zeros((grid_w, grid_l), dtype=\"uint8\")\n",
    "    num_ite = math.ceil(math.log2(dev_num))\n",
    "    for i in range(num_ite)\n",
    "    \n",
    "        # function calls certain devices with orientation\n",
    "        call_func()\n",
    "        \n",
    "        # function identifies certain devices inside the grid\n",
    "        grid_ori = ori_func(grid_dir)\n",
    "        grid_ide = tot_ori + grid_ori << (num_ite - i)\n",
    "    \n",
    "    return grid_ide, grid_w, grid_l"
   ]
  }
 ],
 "metadata": {
  "kernelspec": {
   "display_name": "Python 3",
   "language": "python",
   "name": "python3"
  },
  "language_info": {
   "codemirror_mode": {
    "name": "ipython",
    "version": 3
   },
   "file_extension": ".py",
   "mimetype": "text/x-python",
   "name": "python",
   "nbconvert_exporter": "python",
   "pygments_lexer": "ipython3",
   "version": "3.7.3"
  }
 },
 "nbformat": 4,
 "nbformat_minor": 2
}
